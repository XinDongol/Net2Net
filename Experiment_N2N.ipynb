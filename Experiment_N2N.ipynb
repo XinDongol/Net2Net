{
 "cells": [
  {
   "cell_type": "markdown",
   "metadata": {},
   "source": [
    "# Experiment of Net2Net"
   ]
  },
  {
   "cell_type": "markdown",
   "metadata": {},
   "source": [
    "This is a experiment for *Tianqi Chen, Net2Net: Accelerating Learning via Knowledge Transfer, 2016 ICLR*. It is a very interesting paper whose idea is promising. However, this paper is lack of sufficient mathematical demonstration so we don't really know why this method work by transfer net into **'taller'** or **'fatter'** copy."
   ]
  },
  {
   "cell_type": "markdown",
   "metadata": {},
   "source": [
    "##Analysis of this paper"
   ]
  },
  {
   "cell_type": "markdown",
   "metadata": {},
   "source": [
    "After same analysis of this paper, I would like to take same note of grammer of Python."
   ]
  },
  {
   "cell_type": "markdown",
   "metadata": {},
   "source": [
    "##Python"
   ]
  },
  {
   "cell_type": "markdown",
   "metadata": {},
   "source": [
    "###Same basic knowledage of **Keras** "
   ]
  },
  {
   "cell_type": "markdown",
   "metadata": {},
   "source": [
    "####Layer of Keras"
   ]
  },
  {
   "cell_type": "markdown",
   "metadata": {},
   "source": [
    "####Important modules of Keras(*compile, fit,predict, train_on_batch*)"
   ]
  },
  {
   "cell_type": "markdown",
   "metadata": {},
   "source": [
    "####Useful method of layer(*get_layer, get_weights, set_weights*)"
   ]
  },
  {
   "cell_type": "markdown",
   "metadata": {},
   "source": [
    "###Same knowledage of **Numpy**"
   ]
  },
  {
   "cell_type": "markdown",
   "metadata": {},
   "source": [
    "####Difference among *sequent, mat, array*"
   ]
  },
  {
   "cell_type": "markdown",
   "metadata": {},
   "source": [
    "####The structure of *array*"
   ]
  },
  {
   "cell_type": "markdown",
   "metadata": {},
   "source": [
    "####How to use **Numpy** like MATLAB(*operator*)"
   ]
  }
 ],
 "metadata": {
  "anaconda-cloud": {},
  "kernelspec": {
   "display_name": "Python [Root]",
   "language": "python",
   "name": "Python [Root]"
  },
  "language_info": {
   "codemirror_mode": {
    "name": "ipython",
    "version": 2
   },
   "file_extension": ".py",
   "mimetype": "text/x-python",
   "name": "python",
   "nbconvert_exporter": "python",
   "pygments_lexer": "ipython2",
   "version": "2.7.12"
  }
 },
 "nbformat": 4,
 "nbformat_minor": 0
}
